{
  "nbformat": 4,
  "nbformat_minor": 0,
  "metadata": {
    "accelerator": "GPU",
    "colab": {
      "name": "RNN-using LSTM layers for sentiment analysis and time series prediction.ipynb",
      "provenance": [],
      "collapsed_sections": [],
      "toc_visible": true,
      "include_colab_link": true
    },
    "kernelspec": {
      "display_name": "Python 3",
      "language": "python",
      "name": "python3"
    },
    "language_info": {
      "codemirror_mode": {
        "name": "ipython",
        "version": 3
      },
      "file_extension": ".py",
      "mimetype": "text/x-python",
      "name": "python",
      "nbconvert_exporter": "python",
      "pygments_lexer": "ipython3",
      "version": "3.9.1"
    }
  },
  "cells": [
    {
      "cell_type": "markdown",
      "metadata": {
        "id": "view-in-github",
        "colab_type": "text"
      },
      "source": [
        "<a href=\"https://colab.research.google.com/github/SyedAnasAli3/Masters-course-ML-projects/blob/main/RNN_using_LSTM_layers_for_sentiment_analysis_and_time_series_prediction.ipynb\" target=\"_parent\"><img src=\"https://colab.research.google.com/assets/colab-badge.svg\" alt=\"Open In Colab\"/></a>"
      ]
    },
    {
      "cell_type": "markdown",
      "metadata": {
        "id": "9aiFD8Z_U9h8"
      },
      "source": [
        "# Recurrent neural networks\n",
        "\n",
        "The goal is to learn to use LSTM layers in keras for sentiment analysis and time series prediction. "
      ]
    },
    {
      "cell_type": "code",
      "metadata": {
        "id": "vMCNVPC3U9h_"
      },
      "source": [
        "import numpy as np\n",
        "import matplotlib.pyplot as plt\n",
        "import tensorflow as tf"
      ],
      "execution_count": null,
      "outputs": []
    },
    {
      "cell_type": "markdown",
      "metadata": {
        "id": "Q09VlxB2U9iA"
      },
      "source": [
        "## Sentiment analysis\n",
        "\n",
        "The goal to use recurrent neural networks (LSTM) to perform **sentiment analysis** on short sentences, i.e. to predict whether the sentence has a positive or negative meaning.\n",
        "\n",
        "The following cells represent your training and test data. They are lists of lists, where the first element is the sentence as a string, and the second a boolean, with `True` for positive sentences, `False` for negative ones.\n",
        "\n",
        "Notice how some sentences are ambiguous (if you do not notice the \"not\", the sentiment might be very different)."
      ]
    },
    {
      "cell_type": "code",
      "metadata": {
        "id": "g9e62tfqU9iB"
      },
      "source": [
        "train_data = [\n",
        "  ['good', True],\n",
        "  ['bad', False],\n",
        "  ['happy', True],\n",
        "  ['sad', False],\n",
        "  ['not good', False],\n",
        "  ['not bad', True],\n",
        "  ['not happy', False],\n",
        "  ['not sad', True],\n",
        "  ['very good', True],\n",
        "  ['very bad', False],\n",
        "  ['very happy', True],\n",
        "  ['very sad', False],\n",
        "  ['i am happy', True],\n",
        "  ['this is good', True],\n",
        "  ['i am bad', False],\n",
        "  ['this is bad', False],\n",
        "  ['i am sad', False],\n",
        "  ['this is sad', False],\n",
        "  ['i am not happy', False],\n",
        "  ['this is not good', False],\n",
        "  ['i am not bad', True],\n",
        "  ['this is not sad', True],\n",
        "  ['i am very happy', True],\n",
        "  ['this is very good', True],\n",
        "  ['i am very bad', False],\n",
        "  ['this is very sad', False],\n",
        "  ['this is very happy', True],\n",
        "  ['i am good not bad', True],\n",
        "  ['this is good not bad', True],\n",
        "  ['i am bad not good', False],\n",
        "  ['i am good and happy', True],\n",
        "  ['this is not good and not happy', False],\n",
        "  ['i am not at all good', False],\n",
        "  ['i am not at all bad', True],\n",
        "  ['i am not at all happy', False],\n",
        "  ['this is not at all sad', True],\n",
        "  ['this is not at all happy', False],\n",
        "  ['i am good right now', True],\n",
        "  ['i am bad right now', False],\n",
        "  ['this is bad right now', False],\n",
        "  ['i am sad right now', False],\n",
        "  ['i was good earlier', True],\n",
        "  ['i was happy earlier', True],\n",
        "  ['i was bad earlier', False],\n",
        "  ['i was sad earlier', False],\n",
        "  ['i am very bad right now', False],\n",
        "  ['this is very good right now', True],\n",
        "  ['this is very sad right now', False],\n",
        "  ['this was bad earlier', False],\n",
        "  ['this was very good earlier', True],\n",
        "  ['this was very bad earlier', False],\n",
        "  ['this was very happy earlier', True],\n",
        "  ['this was very sad earlier', False],\n",
        "  ['i was good and not bad earlier', True],\n",
        "  ['i was not good and not happy earlier', False],\n",
        "  ['i am not at all bad or sad right now', True],\n",
        "  ['i am not at all good or happy right now', False],\n",
        "  ['this was not happy and not good earlier', False],\n",
        "]"
      ],
      "execution_count": null,
      "outputs": []
    },
    {
      "cell_type": "code",
      "metadata": {
        "id": "55E2a6QzU9iD"
      },
      "source": [
        "test_data = [\n",
        "  ['this is happy', True],\n",
        "  ['i am good', True],\n",
        "  ['this is not happy', False],\n",
        "  ['i am not good', False],\n",
        "  ['this is not bad', True],\n",
        "  ['i am not sad', True],\n",
        "  ['i am very good', True],\n",
        "  ['this is very bad', False],\n",
        "  ['i am very sad', False],\n",
        "  ['this is bad not good', False],\n",
        "  ['this is good and happy', True],\n",
        "  ['i am not good and not happy', False],\n",
        "  ['i am not at all sad', True],\n",
        "  ['this is not at all good', False],\n",
        "  ['this is not at all bad', True],\n",
        "  ['this is good right now', True],\n",
        "  ['this is sad right now', False],\n",
        "  ['this is very bad right now', False],\n",
        "  ['this was good earlier', True],\n",
        "  ['i was not happy and not good earlier', False],\n",
        "  ['earlier i was good and not bad', True],\n",
        "]"
      ],
      "execution_count": null,
      "outputs": []
    },
    {
      "cell_type": "code",
      "metadata": {
        "colab": {
          "base_uri": "https://localhost:8080/"
        },
        "id": "AdJBGX0rU9iE",
        "outputId": "1dc753ca-ade2-4723-ae3b-e2cd75bff941"
      },
      "source": [
        "N_train = len(train_data)\n",
        "N_test = len(test_data)\n",
        "print(N_train, \"training sentences.\")\n",
        "print(N_test, \"test sentences.\")"
      ],
      "execution_count": null,
      "outputs": [
        {
          "output_type": "stream",
          "text": [
            "58 training sentences.\n",
            "21 test sentences.\n"
          ],
          "name": "stdout"
        }
      ]
    },
    {
      "cell_type": "markdown",
      "metadata": {
        "id": "KjWNlqg_U9iF"
      },
      "source": [
        "### Data preparation\n",
        "\n",
        "The most boring part when training LSTMs on text is to prepare the data correctly. Sentences are sequences of words (possibly a huge number of words), with a variable length (some sentences are shorter than others).\n",
        "\n",
        "What neural networks expect as input is a fixed-length sequence of numerical vectors $\\{\\mathbf{x}_t\\}_{t=0}^T$, i.e. they must have a fixed size. So we need to transform each sentence into this format.\n",
        "\n",
        "The first thing to do is to identify the vocabulary, i.e. the **unique** words in the training set (fortunately, the test set uses the same exact words) as well as the maximal number of words in each sentence (again, the test set does not have longer sentences).\n",
        "\n",
        "**Q:** Create a list `vocabulary` of unique words in the training set and compute the maximal length `nb_words` of a sentence.\n",
        "\n",
        "To extract the words in each sentence, the `split()` method of Python strings might come handy:\n",
        "\n",
        "```python\n",
        "sentence = \"I fear this exercise will be difficult\"\n",
        "print(sentence.split(\" \"))\n",
        "```\n",
        "\n",
        "You will also find the `set` Python object useful to identify unique works. Check the doc. But there are many ways to do that (for loops), just do it the way you prefer."
      ]
    },
    {
      "cell_type": "code",
      "metadata": {
        "colab": {
          "base_uri": "https://localhost:8080/"
        },
        "id": "LhX_HdPSU9iG",
        "outputId": "0f8ec1f4-7f7e-43e9-ecef-d8a07e822e7d"
      },
      "source": [
        "vocabulary = list(set([w for pair in train_data for w in pair[0].split(' ')]))\n",
        "print('Unique words found', len(vocabulary)) # 18 unique words found\n",
        "\n",
        "nb_words = np.max([len(pair[0].split(' ')) for pair in train_data])\n",
        "print(\"Maximum sequence length:\", nb_words)"
      ],
      "execution_count": null,
      "outputs": [
        {
          "output_type": "stream",
          "text": [
            "Unique words found 18\n",
            "Maximum sequence length: 10\n"
          ],
          "name": "stdout"
        }
      ]
    },
    {
      "cell_type": "markdown",
      "metadata": {
        "id": "2nBAOO0UU9iH"
      },
      "source": [
        "Now that we have found our list of 18 unique words, we need to able to perform **one-hot encoding** of each word, i.e. write a method `def one_hot_encoding(word, vocabulary)` that takes a word (e.g. \"good\") and the vocabulary, and returns a vector of size 18, with mostly zeros, except for a `1.0` at the location of the word in the vocabulary.\n",
        "\n",
        "For example, if your vocabulary is `[\"I\", \"love\", \"you\"]`, the one-hot encoding of \"I\" should be `np.array([1., 0., 0.])`, the one of \"love\" is `np.array([0., 1., 0.])`, etc.\n",
        "\n",
        "**Q:** Implement the `one_hot_encoding()` method for single words.\n",
        "\n",
        "*Hint:* you might find the method `index()` of list objects interesting."
      ]
    },
    {
      "cell_type": "code",
      "metadata": {
        "id": "qzWPJV_AU9iI"
      },
      "source": [
        "def one_hot_encoding(word, vocabulary):\n",
        "    r = np.zeros(len(vocabulary))\n",
        "    r[vocabulary.index(word)] = 1.0\n",
        "    return r"
      ],
      "execution_count": null,
      "outputs": []
    },
    {
      "cell_type": "markdown",
      "metadata": {
        "id": "xlZAe7XyU9iJ"
      },
      "source": [
        "**Q:** You can now create the training set `X_train, T_train` and the test set `X_test, T_test`.\n",
        "\n",
        "The training input data `X_train` should be a numpy array with 3 dimensions:\n",
        "\n",
        "```python\n",
        " X_train = np.zeros((N_train, nb_words, len(vocabulary)))\n",
        "```\n",
        "\n",
        "The first index corresponds to each sentence. The second index represents the index of each word in the sentence (maximally `nb_words=10`). The third index is for the one-hot encoding (18 elements).\n",
        "\n",
        "**Beware:** most sentences are shorter than `nb_words=10`. In that case, the words should be set **at the end of the sequence**, i.e. you prepend zero vectors. \n",
        "\n",
        "For example, \"I love you\" should be encoded as:\n",
        "\n",
        "```python\n",
        "\"\", \"\", \"\", \"\", \"\", \"\", \"\", \"I\", \"love\", \"you\"\n",
        "```\n",
        "\n",
        "not as:\n",
        "\n",
        "```python\n",
        "\"I\", \"love\", \"you\", \"\", \"\", \"\", \"\", \"\", \"\", \"\"\n",
        "```\n",
        "\n",
        "The reason for that is that the LSTM will get the words one by one and only respond \"positive\" or \"negative\" after the last word has been seen. If the words are provided at the beginning of the sequence, vanishing gradients might delete them.\n",
        "\n",
        "The same holds for the test set, it only has less sentences."
      ]
    },
    {
      "cell_type": "code",
      "metadata": {
        "id": "dTNX0OROU9iK"
      },
      "source": [
        "def prepare_data(data, vocabulary, nb_words):\n",
        "    \n",
        "    N = len(data)\n",
        "    X = np.zeros((N, nb_words, len(vocabulary)))\n",
        "    T = np.zeros((N, ))\n",
        "    \n",
        "    # Iterate over the data\n",
        "    for i in range(N):\n",
        "        x, t = data[i]\n",
        "        # Transform the sentence\n",
        "        words = x.split(\" \")\n",
        "        for j in range(len(words)):\n",
        "            word = words[j]\n",
        "            encoding = one_hot_encoding(word, vocabulary)\n",
        "            X[i, -len(words) + j, :] = encoding\n",
        "        # Transform the output\n",
        "        T[i] = int(t)\n",
        "    return X, T"
      ],
      "execution_count": null,
      "outputs": []
    },
    {
      "cell_type": "code",
      "metadata": {
        "colab": {
          "base_uri": "https://localhost:8080/"
        },
        "id": "UPK3TogbU9iL",
        "outputId": "b1ae06a2-4531-4679-955c-cc9defec40e3"
      },
      "source": [
        "X_train, T_train = prepare_data(train_data, vocabulary, nb_words)\n",
        "X_test, T_test = prepare_data(test_data, vocabulary, nb_words)\n",
        "print(X_train.shape)\n",
        "print(T_train.shape)\n",
        "print(X_test.shape)\n",
        "print(T_test.shape)"
      ],
      "execution_count": null,
      "outputs": [
        {
          "output_type": "stream",
          "text": [
            "(58, 10, 18)\n",
            "(58,)\n",
            "(21, 10, 18)\n",
            "(21,)\n"
          ],
          "name": "stdout"
        }
      ]
    },
    {
      "cell_type": "markdown",
      "metadata": {
        "id": "IgQFJr8jU9iM"
      },
      "source": [
        "### Training the LSTM\n",
        "\n",
        "Now we just have to provide the data to a recurrent network. The problem is not very complicated, so we will need a single LSTM layer, followed by a single output neuron (with the logistic transfer function) whose role is to output 1 for the positive class, 0 for the negative one.\n",
        "\n",
        "**Q:** Check the documentation for the LSTM layer of `keras`: <https://keras.io/api/layers/recurrent_layers/lstm/>. It has many parameters:\n",
        "\n",
        "```python\n",
        "tf.keras.layers.LSTM(\n",
        "    units, \n",
        "    activation='tanh', \n",
        "    recurrent_activation='sigmoid', \n",
        "    use_bias=True, \n",
        "    kernel_initializer='glorot_uniform', \n",
        "    recurrent_initializer='orthogonal', \n",
        "    bias_initializer='zeros', \n",
        "    unit_forget_bias=True, \n",
        "    kernel_regularizer=None, \n",
        "    recurrent_regularizer=None, bias_regularizer=None, \n",
        "    activity_regularizer=None, kernel_constraint=None, \n",
        "    recurrent_constraint=None, bias_constraint=None, \n",
        "    dropout=0.0, recurrent_dropout=0.0, \n",
        "    implementation=2, \n",
        "    return_sequences=False, return_state=False, \n",
        "    go_backwards=False, stateful=False, unroll=False)\n",
        "```\n",
        "\n",
        "The default value for the parameters is the vanilla LSTM seen in the lectures, but you have the possibility to change the activation functions for the inputs and outputs (not the gates, it must be a sigmoid!), initialize the weights differently, add regularization or dropout, use biases or not, etc. That's a lot to play with. For this exercise, stick to the default parameters at the beginning. The only thing you need to define is the number of neurons `units` of the layer. \n",
        "\n",
        "```python\n",
        "tf.keras.layers.LSTM(units=N)\n",
        "```\n",
        "\n",
        "Note that an important parameter is `return_sequences`. When set to False (the default), the LSTM layer will process the complete sequence of 10 word vectors, and output a single vector of $N$ values (the number of units). When set to True, the layer would return a sequence of 10 vectors of size $N$.\n",
        "\n",
        "Here, we only want the LSTM layer to encode the sentence and feed a single vector to the output layer, so we can leave it to False. If we wanted to stack two LSTM layers on top of each other, we would need to set `return_sequences` to True for the first layer and False for the second one (you can try that later):\n",
        "\n",
        "```python\n",
        "tf.keras.layers.LSTM(N, return_sequences=True)\n",
        "tf.keras.layers.LSTM(M, return_sequences=False)\n",
        "```\n",
        "\n",
        "**Q:** Create a model with one LSTM layer (with enough units) and one output layer with one neuron (`'sigmoid'` activation function). Choose an optimizer (SGD, RMSprop, Adam, etc) and a good learning rate. When compiling the model, use the `'binary_crossentropy'` loss function as it is a binary classification.\n",
        "\n",
        "The input layer of the network must take a `(nb_words, len(vocabulary))` matrix as input, i.e. (window, nb_features).\n",
        "\n",
        "```python\n",
        "tf.keras.layers.Input((nb_words, len(vocabulary)))\n",
        "```\n",
        "\n",
        "When training the model with `model.fit()`, you can pass the test set as validation data, as we do not have too many examples:\n",
        "\n",
        "```python\n",
        "model.fit(X_train, T_train, validation_data=(X_test, T_test), ...)\n",
        "```\n",
        "\n",
        "Train the model for enough epochs, using a batch size big enough but not too big. In other terms: do the hyperparameter search yourself ;). \n",
        " "
      ]
    },
    {
      "cell_type": "code",
      "metadata": {
        "id": "wyUSAGVPU9iO"
      },
      "source": [
        "def small_model():\n",
        "    tf.keras.backend.clear_session()\n",
        "\n",
        "    model = tf.keras.models.Sequential()\n",
        "    \n",
        "    model.add(tf.keras.layers.Input((nb_words, len(vocabulary))))\n",
        "    \n",
        "    model.add(tf.keras.layers.LSTM(10))\n",
        "    \n",
        "    model.add(tf.keras.layers.Dense(1, activation=\"sigmoid\"))\n",
        "    \n",
        "    optimizer = tf.keras.optimizers.Adam(lr=0.01)\n",
        "    \n",
        "    model.compile(loss='binary_crossentropy', optimizer=optimizer, metrics=['binary_accuracy'])\n",
        "    print(model.summary())\n",
        "    return model"
      ],
      "execution_count": null,
      "outputs": []
    },
    {
      "cell_type": "code",
      "metadata": {
        "colab": {
          "base_uri": "https://localhost:8080/",
          "height": 1000
        },
        "id": "zMtqDI9BU9iP",
        "outputId": "a9ddd445-da18-4420-d478-6928551907f8"
      },
      "source": [
        "model = small_model()\n",
        "\n",
        "history = tf.keras.callbacks.History()\n",
        "\n",
        "model.fit(X_train, T_train, validation_data=(X_test, T_test), epochs=30, batch_size=10, callbacks=[history])\n",
        "\n",
        "score = model.evaluate(X_test, T_test, verbose=0)\n",
        "print('Test loss:', score[0])\n",
        "print('Test accuracy:', score[1])\n",
        "\n",
        "plt.figure(figsize=(15, 6))\n",
        "\n",
        "plt.subplot(121)\n",
        "plt.plot(history.history['loss'], '-r', label=\"Training\")\n",
        "plt.plot(history.history['val_loss'], '-b', label=\"Validation\")\n",
        "plt.xlabel('Epoch #')\n",
        "plt.ylabel('Loss')\n",
        "plt.legend()\n",
        "\n",
        "plt.subplot(122)\n",
        "plt.plot(history.history['binary_accuracy'], '-r', label=\"Training\")\n",
        "plt.plot(history.history['val_binary_accuracy'], '-b', label=\"Validation\")\n",
        "plt.xlabel('Epoch #')\n",
        "plt.ylabel('Accuracy')\n",
        "plt.legend()\n",
        "\n",
        "plt.show()"
      ],
      "execution_count": null,
      "outputs": [
        {
          "output_type": "stream",
          "text": [
            "Model: \"sequential\"\n",
            "_________________________________________________________________\n",
            "Layer (type)                 Output Shape              Param #   \n",
            "=================================================================\n",
            "lstm (LSTM)                  (None, 10)                1160      \n",
            "_________________________________________________________________\n",
            "dense (Dense)                (None, 1)                 11        \n",
            "=================================================================\n",
            "Total params: 1,171\n",
            "Trainable params: 1,171\n",
            "Non-trainable params: 0\n",
            "_________________________________________________________________\n",
            "None\n",
            "Epoch 1/30\n",
            "6/6 [==============================] - 4s 114ms/step - loss: 0.6982 - binary_accuracy: 0.4164 - val_loss: 0.6966 - val_binary_accuracy: 0.5238\n",
            "Epoch 2/30\n",
            "6/6 [==============================] - 0s 10ms/step - loss: 0.6710 - binary_accuracy: 0.6405 - val_loss: 0.7026 - val_binary_accuracy: 0.4762\n",
            "Epoch 3/30\n",
            "6/6 [==============================] - 0s 9ms/step - loss: 0.6980 - binary_accuracy: 0.5057 - val_loss: 0.6954 - val_binary_accuracy: 0.4762\n",
            "Epoch 4/30\n",
            "6/6 [==============================] - 0s 9ms/step - loss: 0.6846 - binary_accuracy: 0.5564 - val_loss: 0.6934 - val_binary_accuracy: 0.4762\n",
            "Epoch 5/30\n",
            "6/6 [==============================] - 0s 9ms/step - loss: 0.6814 - binary_accuracy: 0.5319 - val_loss: 0.6898 - val_binary_accuracy: 0.4762\n",
            "Epoch 6/30\n",
            "6/6 [==============================] - 0s 9ms/step - loss: 0.6605 - binary_accuracy: 0.6392 - val_loss: 0.6916 - val_binary_accuracy: 0.5238\n",
            "Epoch 7/30\n",
            "6/6 [==============================] - 0s 9ms/step - loss: 0.6487 - binary_accuracy: 0.5997 - val_loss: 0.6900 - val_binary_accuracy: 0.5714\n",
            "Epoch 8/30\n",
            "6/6 [==============================] - 0s 10ms/step - loss: 0.6536 - binary_accuracy: 0.6133 - val_loss: 0.6799 - val_binary_accuracy: 0.4762\n",
            "Epoch 9/30\n",
            "6/6 [==============================] - 0s 9ms/step - loss: 0.6062 - binary_accuracy: 0.7737 - val_loss: 0.6733 - val_binary_accuracy: 0.5238\n",
            "Epoch 10/30\n",
            "6/6 [==============================] - 0s 9ms/step - loss: 0.6316 - binary_accuracy: 0.6892 - val_loss: 0.6538 - val_binary_accuracy: 0.5238\n",
            "Epoch 11/30\n",
            "6/6 [==============================] - 0s 9ms/step - loss: 0.5812 - binary_accuracy: 0.6942 - val_loss: 0.6212 - val_binary_accuracy: 0.5714\n",
            "Epoch 12/30\n",
            "6/6 [==============================] - 0s 8ms/step - loss: 0.5466 - binary_accuracy: 0.7803 - val_loss: 0.5744 - val_binary_accuracy: 0.7619\n",
            "Epoch 13/30\n",
            "6/6 [==============================] - 0s 28ms/step - loss: 0.5181 - binary_accuracy: 0.7368 - val_loss: 0.4873 - val_binary_accuracy: 0.8095\n",
            "Epoch 14/30\n",
            "6/6 [==============================] - 0s 10ms/step - loss: 0.4618 - binary_accuracy: 0.8465 - val_loss: 0.4202 - val_binary_accuracy: 0.7619\n",
            "Epoch 15/30\n",
            "6/6 [==============================] - 0s 9ms/step - loss: 0.3706 - binary_accuracy: 0.8382 - val_loss: 0.3515 - val_binary_accuracy: 0.8095\n",
            "Epoch 16/30\n",
            "6/6 [==============================] - 0s 11ms/step - loss: 0.2915 - binary_accuracy: 0.8628 - val_loss: 0.2920 - val_binary_accuracy: 0.9524\n",
            "Epoch 17/30\n",
            "6/6 [==============================] - 0s 9ms/step - loss: 0.2362 - binary_accuracy: 0.9731 - val_loss: 0.2651 - val_binary_accuracy: 0.9524\n",
            "Epoch 18/30\n",
            "6/6 [==============================] - 0s 9ms/step - loss: 0.1909 - binary_accuracy: 0.9306 - val_loss: 0.2213 - val_binary_accuracy: 0.9524\n",
            "Epoch 19/30\n",
            "6/6 [==============================] - 0s 9ms/step - loss: 0.1888 - binary_accuracy: 0.9767 - val_loss: 0.1791 - val_binary_accuracy: 1.0000\n",
            "Epoch 20/30\n",
            "6/6 [==============================] - 0s 9ms/step - loss: 0.1485 - binary_accuracy: 1.0000 - val_loss: 0.1478 - val_binary_accuracy: 1.0000\n",
            "Epoch 21/30\n",
            "6/6 [==============================] - 0s 9ms/step - loss: 0.1104 - binary_accuracy: 1.0000 - val_loss: 0.1258 - val_binary_accuracy: 1.0000\n",
            "Epoch 22/30\n",
            "6/6 [==============================] - 0s 9ms/step - loss: 0.1032 - binary_accuracy: 1.0000 - val_loss: 0.1074 - val_binary_accuracy: 1.0000\n",
            "Epoch 23/30\n",
            "6/6 [==============================] - 0s 9ms/step - loss: 0.0974 - binary_accuracy: 1.0000 - val_loss: 0.0922 - val_binary_accuracy: 1.0000\n",
            "Epoch 24/30\n",
            "6/6 [==============================] - 0s 9ms/step - loss: 0.0590 - binary_accuracy: 1.0000 - val_loss: 0.0757 - val_binary_accuracy: 1.0000\n",
            "Epoch 25/30\n",
            "6/6 [==============================] - 0s 9ms/step - loss: 0.0511 - binary_accuracy: 1.0000 - val_loss: 0.0619 - val_binary_accuracy: 1.0000\n",
            "Epoch 26/30\n",
            "6/6 [==============================] - 0s 9ms/step - loss: 0.0432 - binary_accuracy: 1.0000 - val_loss: 0.0517 - val_binary_accuracy: 1.0000\n",
            "Epoch 27/30\n",
            "6/6 [==============================] - 0s 10ms/step - loss: 0.0445 - binary_accuracy: 1.0000 - val_loss: 0.0449 - val_binary_accuracy: 1.0000\n",
            "Epoch 28/30\n",
            "6/6 [==============================] - 0s 9ms/step - loss: 0.0360 - binary_accuracy: 1.0000 - val_loss: 0.0386 - val_binary_accuracy: 1.0000\n",
            "Epoch 29/30\n",
            "6/6 [==============================] - 0s 9ms/step - loss: 0.0370 - binary_accuracy: 1.0000 - val_loss: 0.0353 - val_binary_accuracy: 1.0000\n",
            "Epoch 30/30\n",
            "6/6 [==============================] - 0s 9ms/step - loss: 0.0296 - binary_accuracy: 1.0000 - val_loss: 0.0307 - val_binary_accuracy: 1.0000\n",
            "Test loss: 0.030699074268341064\n",
            "Test accuracy: 1.0\n"
          ],
          "name": "stdout"
        },
        {
          "output_type": "display_data",
          "data": {
            "image/png": "[encoded data removed]",
            "text/plain": [
              "<Figure size 1080x432 with 2 Axes>"
            ]
          },
          "metadata": {
            "tags": [],
            "needs_background": "light"
          }
        }
      ]
    },
    {
      "cell_type": "markdown",
      "metadata": {
        "id": "JhPa5tyPZRGM"
      },
      "source": [
        "**A:** It works easily."
      ]
    },
    {
      "cell_type": "markdown",
      "metadata": {
        "id": "XH9l639TQyJE"
      },
      "source": [
        "**Q.** Once you have been able to successfully train the network, vary the different parts of the model to understand their influence: learning rate, number of units, optimizer, etc. Add another LSTM layer to see what happens. Exchange the LSTM layer with the GRU layer."
      ]
    },
    {
      "cell_type": "code",
      "metadata": {
        "id": "R7i_xeIVQ4bA"
      },
      "source": [
        "def big_model():\n",
        "    tf.keras.backend.clear_session()\n",
        "    model = tf.keras.models.Sequential()\n",
        "    model.add(tf.keras.layers.Input((nb_words, len(vocabulary))))\n",
        "    model.add(tf.keras.layers.LSTM(20, return_sequences=True))\n",
        "    model.add(tf.keras.layers.LSTM(10, return_sequences=False))\n",
        "    model.add(tf.keras.layers.Dense(1, activation=\"sigmoid\"))\n",
        "    optimizer = tf.keras.optimizers.Adam(lr=0.01)\n",
        "    model.compile(loss='binary_crossentropy', optimizer=optimizer, metrics=['binary_accuracy'])\n",
        "    print(model.summary())\n",
        "    return model"
      ],
      "execution_count": null,
      "outputs": []
    },
    {
      "cell_type": "code",
      "metadata": {
        "colab": {
          "base_uri": "https://localhost:8080/",
          "height": 1000
        },
        "id": "IEhyBe2nU9iQ",
        "outputId": "eb7ec0fd-589c-41ec-9a3e-3eae2525372b"
      },
      "source": [
        "model = big_model()\n",
        "\n",
        "history = tf.keras.callbacks.History()\n",
        "\n",
        "model.fit(X_train, T_train, validation_data=(X_test, T_test), epochs=30, batch_size=10, callbacks=[history])\n",
        "\n",
        "score = model.evaluate(X_test, T_test, verbose=0)\n",
        "print('Test loss:', score[0])\n",
        "print('Test accuracy:', score[1])\n",
        "\n",
        "plt.figure(figsize=(15, 6))\n",
        "\n",
        "plt.subplot(121)\n",
        "plt.plot(history.history['loss'], '-r', label=\"Training\")\n",
        "plt.plot(history.history['val_loss'], '-b', label=\"Validation\")\n",
        "plt.xlabel('Epoch #')\n",
        "plt.ylabel('Loss')\n",
        "plt.legend()\n",
        "\n",
        "plt.subplot(122)\n",
        "plt.plot(history.history['binary_accuracy'], '-r', label=\"Training\")\n",
        "plt.plot(history.history['val_binary_accuracy'], '-b', label=\"Validation\")\n",
        "plt.xlabel('Epoch #')\n",
        "plt.ylabel('Accuracy')\n",
        "plt.legend()\n",
        "\n",
        "plt.show()"
      ],
      "execution_count": null,
      "outputs": [
        {
          "output_type": "stream",
          "text": [
            "Model: \"sequential\"\n",
            "_________________________________________________________________\n",
            "Layer (type)                 Output Shape              Param #   \n",
            "=================================================================\n",
            "lstm (LSTM)                  (None, 10, 20)            3120      \n",
            "_________________________________________________________________\n",
            "lstm_1 (LSTM)                (None, 10)                1240      \n",
            "_________________________________________________________________\n",
            "dense (Dense)                (None, 1)                 11        \n",
            "=================================================================\n",
            "Total params: 4,371\n",
            "Trainable params: 4,371\n",
            "Non-trainable params: 0\n",
            "_________________________________________________________________\n",
            "None\n",
            "Epoch 1/30\n",
            "6/6 [==============================] - 3s 126ms/step - loss: 0.6949 - binary_accuracy: 0.6490 - val_loss: 0.7004 - val_binary_accuracy: 0.4762\n",
            "Epoch 2/30\n",
            "6/6 [==============================] - 0s 11ms/step - loss: 0.6915 - binary_accuracy: 0.5153 - val_loss: 0.6925 - val_binary_accuracy: 0.4762\n",
            "Epoch 3/30\n",
            "6/6 [==============================] - 0s 11ms/step - loss: 0.6813 - binary_accuracy: 0.5579 - val_loss: 0.6919 - val_binary_accuracy: 0.4762\n",
            "Epoch 4/30\n",
            "6/6 [==============================] - 0s 11ms/step - loss: 0.6781 - binary_accuracy: 0.5419 - val_loss: 0.6874 - val_binary_accuracy: 0.4762\n",
            "Epoch 5/30\n",
            "6/6 [==============================] - 0s 11ms/step - loss: 0.6644 - binary_accuracy: 0.5853 - val_loss: 0.6798 - val_binary_accuracy: 0.4762\n",
            "Epoch 6/30\n",
            "6/6 [==============================] - 0s 11ms/step - loss: 0.6725 - binary_accuracy: 0.6397 - val_loss: 0.6461 - val_binary_accuracy: 0.7619\n",
            "Epoch 7/30\n",
            "6/6 [==============================] - 0s 11ms/step - loss: 0.6507 - binary_accuracy: 0.7549 - val_loss: 0.6170 - val_binary_accuracy: 0.7619\n",
            "Epoch 8/30\n",
            "6/6 [==============================] - 0s 12ms/step - loss: 0.6102 - binary_accuracy: 0.7229 - val_loss: 0.5384 - val_binary_accuracy: 0.7619\n",
            "Epoch 9/30\n",
            "6/6 [==============================] - 0s 12ms/step - loss: 0.5777 - binary_accuracy: 0.7188 - val_loss: 0.5100 - val_binary_accuracy: 0.7619\n",
            "Epoch 10/30\n",
            "6/6 [==============================] - 0s 13ms/step - loss: 0.4356 - binary_accuracy: 0.8078 - val_loss: 0.4245 - val_binary_accuracy: 0.7619\n",
            "Epoch 11/30\n",
            "6/6 [==============================] - 0s 11ms/step - loss: 0.3224 - binary_accuracy: 0.8566 - val_loss: 0.3798 - val_binary_accuracy: 0.7619\n",
            "Epoch 12/30\n",
            "6/6 [==============================] - 0s 11ms/step - loss: 0.2309 - binary_accuracy: 0.9162 - val_loss: 0.3239 - val_binary_accuracy: 0.8095\n",
            "Epoch 13/30\n",
            "6/6 [==============================] - 0s 11ms/step - loss: 0.1888 - binary_accuracy: 0.8865 - val_loss: 0.2813 - val_binary_accuracy: 0.8095\n",
            "Epoch 14/30\n",
            "6/6 [==============================] - 0s 12ms/step - loss: 0.2265 - binary_accuracy: 0.8508 - val_loss: 0.2611 - val_binary_accuracy: 0.8095\n",
            "Epoch 15/30\n",
            "6/6 [==============================] - 0s 11ms/step - loss: 0.1821 - binary_accuracy: 0.8974 - val_loss: 0.2211 - val_binary_accuracy: 0.8095\n",
            "Epoch 16/30\n",
            "6/6 [==============================] - 0s 11ms/step - loss: 0.1445 - binary_accuracy: 0.9070 - val_loss: 0.1734 - val_binary_accuracy: 1.0000\n",
            "Epoch 17/30\n",
            "6/6 [==============================] - 0s 11ms/step - loss: 0.1258 - binary_accuracy: 1.0000 - val_loss: 0.1343 - val_binary_accuracy: 1.0000\n",
            "Epoch 18/30\n",
            "6/6 [==============================] - 0s 11ms/step - loss: 0.0961 - binary_accuracy: 1.0000 - val_loss: 0.1001 - val_binary_accuracy: 1.0000\n",
            "Epoch 19/30\n",
            "6/6 [==============================] - 0s 11ms/step - loss: 0.0575 - binary_accuracy: 1.0000 - val_loss: 0.0631 - val_binary_accuracy: 1.0000\n",
            "Epoch 20/30\n",
            "6/6 [==============================] - 0s 11ms/step - loss: 0.0367 - binary_accuracy: 1.0000 - val_loss: 0.0423 - val_binary_accuracy: 1.0000\n",
            "Epoch 21/30\n",
            "6/6 [==============================] - 0s 11ms/step - loss: 0.0290 - binary_accuracy: 1.0000 - val_loss: 0.0247 - val_binary_accuracy: 1.0000\n",
            "Epoch 22/30\n",
            "6/6 [==============================] - 0s 11ms/step - loss: 0.0100 - binary_accuracy: 1.0000 - val_loss: 0.0123 - val_binary_accuracy: 1.0000\n",
            "Epoch 23/30\n",
            "6/6 [==============================] - 0s 12ms/step - loss: 0.0091 - binary_accuracy: 1.0000 - val_loss: 0.0070 - val_binary_accuracy: 1.0000\n",
            "Epoch 24/30\n",
            "6/6 [==============================] - 0s 11ms/step - loss: 0.0045 - binary_accuracy: 1.0000 - val_loss: 0.0053 - val_binary_accuracy: 1.0000\n",
            "Epoch 25/30\n",
            "6/6 [==============================] - 0s 10ms/step - loss: 0.0042 - binary_accuracy: 1.0000 - val_loss: 0.0043 - val_binary_accuracy: 1.0000\n",
            "Epoch 26/30\n",
            "6/6 [==============================] - 0s 11ms/step - loss: 0.0023 - binary_accuracy: 1.0000 - val_loss: 0.0031 - val_binary_accuracy: 1.0000\n",
            "Epoch 27/30\n",
            "6/6 [==============================] - 0s 10ms/step - loss: 0.0026 - binary_accuracy: 1.0000 - val_loss: 0.0026 - val_binary_accuracy: 1.0000\n",
            "Epoch 28/30\n",
            "6/6 [==============================] - 0s 11ms/step - loss: 0.0021 - binary_accuracy: 1.0000 - val_loss: 0.0022 - val_binary_accuracy: 1.0000\n",
            "Epoch 29/30\n",
            "6/6 [==============================] - 0s 11ms/step - loss: 0.0018 - binary_accuracy: 1.0000 - val_loss: 0.0021 - val_binary_accuracy: 1.0000\n",
            "Epoch 30/30\n",
            "6/6 [==============================] - 0s 11ms/step - loss: 0.0013 - binary_accuracy: 1.0000 - val_loss: 0.0019 - val_binary_accuracy: 1.0000\n",
            "Test loss: 0.0019315623212605715\n",
            "Test accuracy: 1.0\n"
          ],
          "name": "stdout"
        },
        {
          "output_type": "display_data",
          "data": {
            "image/png": "[encoded data removed]",
            "text/plain": [
              "<Figure size 1080x432 with 2 Axes>"
            ]
          },
          "metadata": {
            "tags": [],
            "needs_background": "light"
          }
        }
      ]
    },
    {
      "cell_type": "code",
      "metadata": {
        "id": "ABLpjpqiU9iV"
      },
      "source": [
        ""
      ],
      "execution_count": null,
      "outputs": []
    }
  ]
}